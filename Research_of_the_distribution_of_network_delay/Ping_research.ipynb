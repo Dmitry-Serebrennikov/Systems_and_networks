{
 "cells": [
  {
   "cell_type": "code",
   "execution_count": 29,
   "metadata": {},
   "outputs": [
    {
     "name": "stdout",
     "output_type": "stream",
     "text": [
      "Average time delay:  89.14030000000001\n"
     ]
    },
    {
     "data": {
      "image/png": "[encoded data removed]",
      "text/plain": [
       "<Figure size 432x288 with 1 Axes>"
      ]
     },
     "metadata": {
      "needs_background": "light"
     },
     "output_type": "display_data"
    }
   ],
   "source": [
    "import matplotlib.pyplot as plt\n",
    "\n",
    "file_name = open('ping_statistic.txt')\n",
    "lines = file_name.readlines()\n",
    "time = []\n",
    "total = 0\n",
    "\n",
    "for line in lines[2:-4]:\n",
    "    ln = line.split(' ')\n",
    "    time.append(float(ln[6].split('=')[1]))\n",
    "    total = total + time[-1]\n",
    "\n",
    "#print(time)\n",
    "plt.hist(time)\n",
    "plt.title('Distribution of network delay')\n",
    "plt.xlabel('Time delay')\n",
    "plt.ylabel('Ping quantity')\n",
    "#plt.show()\n",
    "print('Average time delay: ', total / 1000)\n",
    "plt.savefig('result.png', dpi=250)"
   ]
  },
  {
   "cell_type": "code",
   "execution_count": null,
   "metadata": {},
   "outputs": [],
   "source": []
  },
  {
   "cell_type": "code",
   "execution_count": null,
   "metadata": {},
   "outputs": [],
   "source": []
  }
 ],
 "metadata": {
  "kernelspec": {
   "display_name": "Python 3",
   "language": "python",
   "name": "python3"
  },
  "language_info": {
   "codemirror_mode": {
    "name": "ipython",
    "version": 3
   },
   "file_extension": ".py",
   "mimetype": "text/x-python",
   "name": "python",
   "nbconvert_exporter": "python",
   "pygments_lexer": "ipython3",
   "version": "3.7.4"
  }
 },
 "nbformat": 4,
 "nbformat_minor": 2
}
